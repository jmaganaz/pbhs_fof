{
 "cells": [
  {
   "cell_type": "code",
   "execution_count": 1,
   "metadata": {},
   "outputs": [],
   "source": [
    "from tqdm import tqdm_notebook as tqdm\n",
    "\n",
    "import matplotlib.pyplot as plt\n",
    "from matplotlib.ticker import MaxNLocator\n",
    "\n",
    "\n",
    "import numpy as np \n",
    "from cosmo import cosmology\n",
    "from MassFunction import MassFunction\n",
    "\n",
    "\n",
    "from HC_lognormal import dndm_spiky_broken_log as HCmass\n"
   ]
  },
  {
   "cell_type": "markdown",
   "metadata": {},
   "source": [
    "Mass function for the HC scenario (for the constants see Sureda et al. 2021)\n",
    "\n",
    "\\begin{eqnarray}\n",
    "&&\\left(\\frac{dn}{dM}\\right)_{hc}=\\frac{\\rho_{DM}}{3\\sqrt{2\\pi}}\\frac{\\nu_{*}}{\\, \\nu_{m}^{3}} \\left[2(n_b-n_s) C_{hc}^{n_b+3} M_{piv}^{-\\frac{n_b+3}{2}}+ \n",
    "\\right.\\nonumber\\\\\n",
    "&&(n_s+3)(\\frac{1-n_b}{2})C_{hc}^{n_b+3}M^{-\\frac{n_b+3}{2}}+\\nonumber\\\\\n",
    "&&\\left(\\frac{A_2}{ A_1 \\sqrt{2\\pi}\\epsilon}\\right)\\frac{(n_s+3)(n_b+3)}{M_{piv}^{-(n_s-n_b)/2}} C_{hc}^{3+n_b-n_s} M_{p}^{-3/2}e^{\\frac{9\\epsilon^2}{2}}\\nonumber \\\\ \n",
    "&& \\left. e^-{\\left(\\frac{\\log{C_{hc}M_p^{-\\frac{1}{2}}}+3\\epsilon^{2}-\\log{C_{hc} M^{-\\frac{1}{2}}}}{\\sqrt{2}\\epsilon}\\right)^2}\n",
    " \\right] e^{-\\frac{1}{2}\\left(\\frac{\\nu_{*}}{\\nu_{m}}\\right)^2 }\\nonumber\n",
    "\\end{eqnarray}\n",
    "\n",
    "where\n",
    "\n",
    "\\begin{eqnarray}\n",
    "    &&\\nu_{*}\\equiv    \\frac{\\delta_c}{\\sqrt{\\frac{4\\pi\\,A_1\\, (C_{hc}\\,M_{piv})^{-(n_s-n_b)/2}}{(n_s+3)(n_b+3)} \\left(\\frac{G C_{hc}}{\\pi c^2 f_m}\\right)^4}} = \\left[(n_b-n_s)C_{hc}^{n_b+3} M_{piv}^{-\\frac{n_b+3}{2}} + (n_s+3)C_{hc}^{n_b+3}M_{*}^{\\frac{1-n_b}{2}} +\\right.\\nonumber\\\\\n",
    "    &&\\left. \\left(\\frac{A_2}{2 A_1}\\right)\\frac{(n_s+3)(n_b+3)}{C_{hc }^{n_s-nb} M_{piv}^{-(n_s-n_b)/2}} C_{hc}^{3} M_p^{-3/2} e^{\\frac{9\\epsilon^2}{2}} \\left(1- \\mathrm{Erf}\\left[\\frac{\\log{C_{hc}M_p^{-\\frac{1}{2}}}+3\\epsilon^{2}-\\log{C_{hc} M_{*}^{-\\frac{1}{2}}}}{\\sqrt{2}\\epsilon}\\right]\\right)\\right]^{1/2} \\nonumber\\\\\n",
    "    \\label{eq:sigmaM*_hc}\n",
    "\\end{eqnarray}\n",
    "\n",
    "\\begin{eqnarray}\n",
    "    &&\\nu_{m} = \\left[(n_b-n_s)C_{hc}^{n_b+3} M_{piv}^{-\\frac{n_b+3}{2}} + (n_s+3)C_{hc}^{n_b+3}M_{}^{\\frac{1-n_b}{2}} +\\right.\\nonumber\\\\\n",
    "    &&\\left. \\left(\\frac{A_2}{2 A_1}\\right)\\frac{(n_s+3)(n_b+3)}{C_{hc }^{n_s-nb} M_{piv}^{-(n_s-n_b)/2}} C_{hc}^{3} M_p^{-3/2} e^{\\frac{9\\epsilon^2}{2}} \\left(1- \\mathrm{Erf}\\left[\\frac{\\log{C_{hc}M_p^{-\\frac{1}{2}}}+3\\epsilon^{2}-\\log{C_{hc} M_{}^{-\\frac{1}{2}}}}{\\sqrt{2}\\epsilon}\\right]\\right)\\right]^{1/2} \\nonumber\\\\\n",
    "    \\label{eq:sigmaM_hc}\n",
    "\\end{eqnarray}"
   ]
  },
  {
   "cell_type": "code",
   "execution_count": 2,
   "metadata": {},
   "outputs": [
    {
     "name": "stdout",
     "output_type": "stream",
     "text": [
      "Cosmology defined with:\n",
      "Om0 = 0.315  ;  Odm0 = 0.264  ;  Or0 = 9.237e-05  ;  h = 0.6736\n"
     ]
    }
   ],
   "source": [
    "#First, we define a cosmological model, the default is that with the cosmological parameters estimated by Planck\n",
    "cosmo = cosmology()"
   ]
  },
  {
   "cell_type": "code",
   "execution_count": 3,
   "metadata": {},
   "outputs": [],
   "source": [
    "# We give values to four free parameters: \n",
    "# M*: the characteristic mass where the distribution stars an exponential cut-off, \n",
    "# the blue index nb\n",
    "# the position of the peak mass Mp\n",
    "# the amplitud of the spike A2 \n",
    "Ms1 = 50\n",
    "nb1 = 2.0\n",
    "Mp1=1e-1*Ms1\n",
    "A2_1=1e23"
   ]
  },
  {
   "cell_type": "code",
   "execution_count": 4,
   "metadata": {},
   "outputs": [
    {
     "name": "stderr",
     "output_type": "stream",
     "text": [
      "/home/aldebaran/Documents/primordial black holes/marzo2022/PBH-master_HC_FOF/m1ph.py:54: RuntimeWarning: divide by zero encountered in log10\n",
      "  interpolation = interp1d(np.log10(Nden_values),loM_vals,fill_value = \"extrapolate\")\n"
     ]
    }
   ],
   "source": [
    "# initialize the mass function\n",
    "dndm_hc = lambda par: HCmass(par[0], a=1., cosmo=cosmo, M_star=par[1], nb=par[2], Mc=par[3], A2=par[4])\n",
    "    \n",
    "MF_log = MassFunction(dndm_hc,cosmo,Ms1,nb1,Mp1,A2=A2_1)\n"
   ]
  },
  {
   "cell_type": "code",
   "execution_count": 6,
   "metadata": {},
   "outputs": [
    {
     "data": {
      "image/png": "[encoded data removed]",
      "text/plain": [
       "<Figure size 432x288 with 1 Axes>"
      ]
     },
     "metadata": {
      "needs_background": "light"
     },
     "output_type": "display_data"
    }
   ],
   "source": [
    "#Plotting the mass function\n",
    "MF_log.plot(loy=1e-25)"
   ]
  },
  {
   "cell_type": "markdown",
   "metadata": {},
   "source": [
    "The cumulative number density\n",
    "\n",
    "\\begin{equation}\n",
    "    N_{PBH}(>M)= \\int_M^\\infty \\frac{dn}{dM'}dM',\n",
    "    \\label{eq:cumulative number density}\n",
    "\\end{equation}\n"
   ]
  },
  {
   "cell_type": "code",
   "execution_count": 6,
   "metadata": {},
   "outputs": [],
   "source": [
    "#we can calculate the cumulative number density between two limits at any scale factor\n",
    "#the function returns a vector of logM and N(logM)\n",
    "\n",
    "nden=MF_log.number_density(a=1,lo=np.log10(cosmo.Mev(0)),hi=np.log10(1e3*Ms1))"
   ]
  },
  {
   "cell_type": "code",
   "execution_count": 11,
   "metadata": {},
   "outputs": [
    {
     "data": {
      "text/plain": [
       "Text(0, 0.5, 'N(>M)')"
      ]
     },
     "execution_count": 11,
     "metadata": {},
     "output_type": "execute_result"
    },
    {
     "data": {
      "image/png": "[encoded data removed]",
      "text/plain": [
       "<Figure size 432x288 with 1 Axes>"
      ]
     },
     "metadata": {
      "needs_background": "light"
     },
     "output_type": "display_data"
    }
   ],
   "source": [
    "plt.plot(10**nden[0],nden[1])\n",
    "plt.loglog()\n",
    "plt.ylim(1e-5,1e25)\n",
    "plt.xlabel(r'$M[M_{\\odot}]$')\n",
    "plt.ylabel('N(>M)')"
   ]
  },
  {
   "cell_type": "code",
   "execution_count": 12,
   "metadata": {},
   "outputs": [
    {
     "name": "stderr",
     "output_type": "stream",
     "text": [
      "/home/aldebaran/Documents/primordial black holes/marzo2022/PBH-master_HC_FOF/HC_lognormal.py:309: RuntimeWarning: invalid value encountered in power\n",
      "  num= np.power(x1mpivm + x1m + s4m, 1./2)\n"
     ]
    },
    {
     "name": "stdout",
     "output_type": "stream",
     "text": [
      "A2_max=9.9e+14 frac_mass_max=4.9e-01\n"
     ]
    }
   ],
   "source": [
    "# Given a Mp, we can calculate the amplitude A2 where the mass fraction inside in the spike is maximum\n",
    "# The function returns a vector of all the posible amplitudes, the maximum A2 and an interpolation function\n",
    "# which returns the mass fraction in the spike given the amplitude A2\n",
    "a2maxt = MF_log.find_A2_max_restricted()\n",
    "print('A2_max=%.1e frac_mass_max=%.1e'%(a2maxt[1], a2maxt[2](a2maxt[1])))"
   ]
  },
  {
   "cell_type": "code",
   "execution_count": 13,
   "metadata": {},
   "outputs": [],
   "source": [
    "#create a vector of Mp\n",
    "array_pos=[1e-4,1e-3,1e-2,1e-1,0.5,1,10,1e2]\n",
    "M0vec = [i * Ms1 for i in array_pos]\n",
    "\n",
    "grid=len(M0vec)"
   ]
  },
  {
   "cell_type": "code",
   "execution_count": 15,
   "metadata": {},
   "outputs": [
    {
     "name": "stderr",
     "output_type": "stream",
     "text": [
      "/home/aldebaran/anaconda3/lib/python3.7/site-packages/ipykernel_launcher.py:4: TqdmDeprecationWarning: This function will be removed in tqdm==5.0.0\n",
      "Please use `tqdm.notebook.tqdm` instead of `tqdm.tqdm_notebook`\n",
      "  after removing the cwd from sys.path.\n"
     ]
    },
    {
     "data": {
      "application/vnd.jupyter.widget-view+json": {
       "model_id": "4746c4e869b54cc9b798460c6e8c3211",
       "version_major": 2,
       "version_minor": 0
      },
      "text/plain": [
       "  0%|          | 0/8 [00:00<?, ?it/s]"
      ]
     },
     "metadata": {},
     "output_type": "display_data"
    }
   ],
   "source": [
    "fmass_max_M0=[]\n",
    "A2max_M0=[]\n",
    "\n",
    "for i in tqdm(range(grid)):\n",
    "    MF = MassFunction(dndm_hc,cosmo,Ms1,nb1,M0vec[i])\n",
    "    A2v=MF.find_A2_max_restricted()\n",
    "    A2max_M0.append(A2v[1])\n",
    "    fmass_max_M0.append(A2v[2](A2v[1]))"
   ]
  },
  {
   "cell_type": "code",
   "execution_count": 17,
   "metadata": {},
   "outputs": [
    {
     "name": "stderr",
     "output_type": "stream",
     "text": [
      "/home/aldebaran/anaconda3/lib/python3.7/site-packages/ipykernel_launcher.py:9: TqdmDeprecationWarning: This function will be removed in tqdm==5.0.0\n",
      "Please use `tqdm.notebook.tqdm` instead of `tqdm.tqdm_notebook`\n",
      "  if __name__ == '__main__':\n"
     ]
    },
    {
     "data": {
      "application/vnd.jupyter.widget-view+json": {
       "model_id": "6c01b0d395c345318a76543164a91735",
       "version_major": 2,
       "version_minor": 0
      },
      "text/plain": [
       "  0%|          | 0/8 [00:00<?, ?it/s]"
      ]
     },
     "metadata": {},
     "output_type": "display_data"
    },
    {
     "name": "stdout",
     "output_type": "stream",
     "text": [
      "nb=2.000000 Mc=5.000000e-03 As=9.715930e+19 fpbhf=1.688622e-03 is fpbht = 1.146442e-01\n",
      "nb=2.000000 Mc=5.000000e-02 As=8.683071e+20 fpbhf=1.699464e-03 is fpbht = 1.641783e-01\n",
      "nb=2.000000 Mc=5.000000e-01 As=4.488126e+21 fpbhf=1.682811e-03 is fpbht = 3.600589e-01\n",
      "nb=2.000000 Mc=5.000000e+00 As=4.011013e+22 fpbhf=1.920178e-03 is fpbht = 1.984366e+00\n",
      "nb=2.000000 Mc=2.500000e+01 As=2.073222e+23 fpbhf=4.837770e-04 is fpbht = 2.251648e+00\n",
      "nb=2.000000 Mc=5.000000e+01 As=9.856941e+14 fpbhf=8.698159e-07 is fpbht = 8.698159e-07\n",
      "nb=2.000000 Mc=5.000000e+02 As=1.523100e+16 fpbhf=8.649769e-07 is fpbht = 8.649769e-07\n",
      "nb=2.000000 Mc=5.000000e+03 As=4.069227e+17 fpbhf=5.315259e-08 is fpbht = 9.536740e-07\n"
     ]
    }
   ],
   "source": [
    "#Compute the fraction of PBH as dark matter using different observational constraints (see Sureda et al. 2021)\n",
    "\n",
    "\n",
    "fpbh_udF=np.zeros(grid)\n",
    "fpbh_udT=np.zeros(grid)\n",
    "\n",
    "\n",
    "\n",
    "for i in tqdm(range(grid)):\n",
    "   \n",
    "  \n",
    "    MF_logf = MassFunction(dndm_hc,cosmo,Ms1,nb1,M0vec[i],A2max_M0[i])\n",
    "    MF_logt = MassFunction(dndm_hc,cosmo,Ms1,nb1,M0vec[i],A2max_M0[i])\n",
    "       \n",
    "    \n",
    "    f_logf = MF_logf.compute_f(removedisputed=False)\n",
    "    f_logt = MF_logt.compute_f(removedisputed=True)\n",
    "   \n",
    "    \n",
    "    print(\"nb=%f Mc=%e As=%e fpbhf=%e is fpbht = %e\"%(nb1,M0vec[i],MF_logf.A2,f_logf,f_logt))\n",
    "    fpbh_udF[i]=f_logf\n",
    "    fpbh_udT[i]=f_logt\n",
    "    "
   ]
  },
  {
   "cell_type": "code",
   "execution_count": 19,
   "metadata": {},
   "outputs": [
    {
     "name": "stdout",
     "output_type": "stream",
     "text": [
      "0.0016644810371541257\n"
     ]
    }
   ],
   "source": [
    "#computation of fpbh without spike\n",
    "MF_logA20 = MassFunction(dndm_hc,cosmo,Ms1,nb1,M0vec[0], A2=0)\n",
    "f_logA20 = MF_logA20.compute_f(removedisputed=False)\n",
    "print(f_logA20)"
   ]
  },
  {
   "cell_type": "code",
   "execution_count": 20,
   "metadata": {},
   "outputs": [
    {
     "name": "stderr",
     "output_type": "stream",
     "text": [
      "No handles with labels found to put in legend.\n"
     ]
    },
    {
     "data": {
      "image/png": "[encoded data removed]",
      "text/plain": [
       "<Figure size 648x504 with 2 Axes>"
      ]
     },
     "metadata": {
      "needs_background": "light"
     },
     "output_type": "display_data"
    }
   ],
   "source": [
    "figf1=plt.figure(figsize=(9,7))\n",
    "plt.scatter(np.log10(M0vec), fpbh_udF, c=fmass_max_M0, s=80, vmin=0.1, vmax=1)\n",
    "plt.yscale('log')\n",
    "plt.ylim(1e-8,1)\n",
    "plt.axhline(f_logA20, color='orange',ls='dotted')\n",
    "plt.axhline(1.0,color='0.5')\n",
    "plt.xlabel(r'$\\log\\left(\\frac{M_{peak}}{M_{*}}\\right)$',fontsize=18)\n",
    "plt.ylabel('$f_{pbh}$',fontsize=18)\n",
    "cbar=plt.colorbar(label='$mass_{spike}$')\n",
    "plt.legend(fontsize=14, title_fontsize=15,title=r'$M_{*}=10^{-10} M_{\\odot}\\;, n_{b}=%.1f$'%nb1,loc=3)\n",
    "plt.xticks(fontsize=18)\n",
    "plt.yticks(fontsize=18)\n",
    "\n",
    "cbar.ax.tick_params(labelsize=18) \n",
    "cbar.set_label(r'$f_{mass,spike}$',rotation=90,fontsize=18)\n",
    "#cbar.ax.set_title(label='x',fontsize=24)\n",
    "\n",
    "figf1.savefig(\"fpbh_spike.png\")\n"
   ]
  },
  {
   "cell_type": "markdown",
   "metadata": {},
   "source": [
    "Homework:\n",
    "\n",
    "1) Compute the fpbh removing the disputed observational constraints for the previous example\n",
    "\n",
    "2) Construct mass functions with a anoter blue index and three different Mp\n",
    "\n",
    "3) Compute the Maximum amplitude A2 which provide the maximum mass fraction inside the spike\n",
    "\n",
    "4) Compute the fpbh for all observational constraints and removing the disputed ones\n",
    "\n"
   ]
  },
  {
   "cell_type": "markdown",
   "metadata": {},
   "source": [
    "5) Try to code the FCT mass function\n",
    "\n",
    "\\begin{eqnarray}\n",
    "&&\\left(\\frac{dn}{dM}\\right)_{fct}=\\frac{\\rho_{DM}}{3\\sqrt{2\\pi}}\\frac{\\nu_{*}}{\\, \\nu_{m}^{3}} \\left[\\frac{n_b+3}{n_s+3}C_{fct}^{n_b+3} M^{-\\frac{n_b+9}{3}}+\n",
    "\\right.\\nonumber\\\\\n",
    "&&\\left(\\frac{A_2}{ A_1 \\sqrt{2\\pi}\\epsilon}\\right)\\frac{(n_s+3)(n_b+3)}{M_{piv}^{-(n_s-n_b)/3}} C_{fct}^{3}  \\frac{1}{M_p\\,M^2}e^{\\frac{9\\epsilon^2}{2}}\\nonumber \\\\ \n",
    "&&  \\left. e^-{\\left(\\frac{\\log{C_{fct}M_p^{-\\frac{1}{3}}}+3\\epsilon^{2}-\\log{C_{fct} M^{-\\frac{1}{3}}}}{\\sqrt{2}\\epsilon}\\right)^2}\n",
    "\\right] e^{-\\frac{1}{2}\\left(\\frac{\\nu_{*}}{\\nu_{m}}\\right)^2 }\\nonumber\n",
    "\\end{eqnarray}\n",
    "\n",
    "\\begin{eqnarray}\n",
    "    &&\\nu_{*}\\equiv    \\frac{\\delta_c}{\\sqrt{\\frac{4\\pi\\,A_1\\, a_{fct}^{4} C_{fct}^{3}M_{piv}^{-(n_s-n_b)/3}}{(n_s+3)(n_b+3)}}} = \\left[(n_b-n_s)C_{fct}^{n_b+3} M_{piv}^{-\\frac{n_b+3}{3}} + (n_s+3)C_{fct}^{n_b+3}M_{*}^{-\\frac{n_b+3}{3}} +\\right.\\nonumber\\\\\n",
    "    &&\\left. \\left(\\frac{A_2}{2 A_1}\\right)\\frac{(n_s+3)(n_b+3)}{M_{piv}^{-(n_s-n_b)/3}} C_{fct}^{3} \\frac{1}{M_p} e^{\\frac{9\\epsilon^2}{2}} \\left(1- \\mathrm{Erf}\\left[\\frac{\\log{C_{fct}M_p^{-\\frac{1}{3}}}+3\\epsilon^{2}-\\log{C_{fct} M_{*}^{-\\frac{1}{3}}}}{\\sqrt{2}\\epsilon}\\right]\\right)\\right]^{1/2} \\nonumber\\\\\n",
    "    \\label{eq:sigmaM*}\n",
    "\\end{eqnarray}\n",
    "\n",
    "\\begin{eqnarray}\n",
    "    &&\\nu_{m} = \\left[(n_b-n_s)C_{fct}^{n_b+3} M_{piv}^{-\\frac{n_b+3}{3}} + (n_s+3)C_{fct}^{n_b+3}M_{}^{-\\frac{n_b+3}{3}} +\\right.\\nonumber\\\\\n",
    "    &&\\left. \\left(\\frac{A_2}{2 A_1}\\right)\\frac{(n_s+3)(n_b+3)}{M_{piv}^{-(n_s-n_b)/3}} C_{fct}^{3} M_p^{-1} e^{\\frac{9\\epsilon^2}{2}} \\left(1- \\mathrm{Erf}\\left[\\frac{\\log{C_{fct}M_p^{-\\frac{1}{3}}}+3\\epsilon^{2}-\\log{C_{fct} M^{-\\frac{1}{3}}}}{\\sqrt{2}\\epsilon}\\right]\\right)\\right]^{1/2} \\nonumber\\\\\n",
    "    \\label{eq:sigmam}\n",
    "\\end{eqnarray}"
   ]
  },
  {
   "cell_type": "code",
   "execution_count": null,
   "metadata": {},
   "outputs": [],
   "source": []
  }
 ],
 "metadata": {
  "kernelspec": {
   "display_name": "Python 3",
   "language": "python",
   "name": "python3"
  },
  "language_info": {
   "codemirror_mode": {
    "name": "ipython",
    "version": 3
   },
   "file_extension": ".py",
   "mimetype": "text/x-python",
   "name": "python",
   "nbconvert_exporter": "python",
   "pygments_lexer": "ipython3",
   "version": "3.7.4"
  }
 },
 "nbformat": 4,
 "nbformat_minor": 2
}
